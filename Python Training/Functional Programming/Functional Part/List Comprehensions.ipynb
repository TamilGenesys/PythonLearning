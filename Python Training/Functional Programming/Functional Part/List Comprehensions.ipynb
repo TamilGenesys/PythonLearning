{
 "cells": [
  {
   "cell_type": "code",
   "execution_count": 1,
   "metadata": {},
   "outputs": [
    {
     "name": "stdout",
     "output_type": "stream",
     "text": [
      "[2, 4, 6, 8, 10, 12, 14, 16, 18, 20]\n"
     ]
    }
   ],
   "source": [
    "# List Comprehensions allows us to bring the behviour of map and filter fuctions\n",
    "\n",
    "num_list = [1, 2, 3, 4, 5, 6, 7, 8, 9, 10]\n",
    "\n",
    "# Same as Map\n",
    "double = [ x*2 for x in num_list ]\n",
    "print(double)"
   ]
  },
  {
   "cell_type": "code",
   "execution_count": 2,
   "metadata": {},
   "outputs": [
    {
     "name": "stdout",
     "output_type": "stream",
     "text": [
      "[2, 4, 6, 8, 10]\n"
     ]
    }
   ],
   "source": [
    "# same as filter\n",
    "even = [ x for x in num_list if x%2 == 0]\n",
    "print(even)"
   ]
  },
  {
   "cell_type": "code",
   "execution_count": 3,
   "metadata": {},
   "outputs": [
    {
     "name": "stdout",
     "output_type": "stream",
     "text": [
      "[4, 8, 12, 16, 20]\n"
     ]
    }
   ],
   "source": [
    "# combine map and filter\n",
    "\n",
    "double_even = [ x*2 for x in num_list if x%2 == 0]\n",
    "print(double_even)"
   ]
  },
  {
   "cell_type": "code",
   "execution_count": 4,
   "metadata": {},
   "outputs": [
    {
     "name": "stdout",
     "output_type": "stream",
     "text": [
      "['TOFFY', 'KEFI', 'MOCHA', 'MILK', 'HARRY POTTER', 'RAPUNZEL']\n"
     ]
    }
   ],
   "source": [
    "name_list = [\"Toffy\", \"Kefi\", \"Mocha\", \"Milk\", \"Harry Potter\", \"Rapunzel\"]\n",
    "\n",
    "# Same as Map\n",
    "cap_name = [ x.upper() for x in name_list]\n",
    "print(cap_name)\n"
   ]
  },
  {
   "cell_type": "code",
   "execution_count": 6,
   "metadata": {},
   "outputs": [
    {
     "name": "stdout",
     "output_type": "stream",
     "text": [
      "['Mocha', 'Milk']\n"
     ]
    }
   ],
   "source": [
    "# Same as filter\n",
    "initials = \"M\"\n",
    "initials_name = [ x for x in name_list if x[0].upper() == initials]\n",
    "print(initials_name)"
   ]
  },
  {
   "cell_type": "code",
   "execution_count": 7,
   "metadata": {},
   "outputs": [
    {
     "name": "stdout",
     "output_type": "stream",
     "text": [
      "['MOCHA', 'MILK']\n"
     ]
    }
   ],
   "source": [
    "# map and filter\n",
    "\n",
    "initials_cap_name = [ x.upper() for x in name_list if x[0].upper() == initials]\n",
    "print(initials_cap_name)"
   ]
  },
  {
   "cell_type": "code",
   "execution_count": null,
   "metadata": {},
   "outputs": [],
   "source": []
  }
 ],
 "metadata": {
  "kernelspec": {
   "display_name": "Python 3",
   "language": "python",
   "name": "python3"
  },
  "language_info": {
   "codemirror_mode": {
    "name": "ipython",
    "version": 3
   },
   "file_extension": ".py",
   "mimetype": "text/x-python",
   "name": "python",
   "nbconvert_exporter": "python",
   "pygments_lexer": "ipython3",
   "version": "3.7.4"
  }
 },
 "nbformat": 4,
 "nbformat_minor": 2
}
