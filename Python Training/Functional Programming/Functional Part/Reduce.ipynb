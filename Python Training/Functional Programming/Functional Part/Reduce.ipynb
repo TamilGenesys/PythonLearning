{
 "cells": [
  {
   "cell_type": "code",
   "execution_count": 2,
   "metadata": {},
   "outputs": [
    {
     "name": "stdout",
     "output_type": "stream",
     "text": [
      "15\n"
     ]
    }
   ],
   "source": [
    "# Reduce function will reduce the giver iterable to a single item\n",
    "\n",
    "from functools import reduce\n",
    "\n",
    "num_list = [ 1, 2, 3, 4, 5]\n",
    "\n",
    "def sum(accumlator, num):\n",
    "    return accumlator + num\n",
    "\n",
    "total = reduce(sum, num_list)\n",
    "print(total)"
   ]
  },
  {
   "cell_type": "code",
   "execution_count": 3,
   "metadata": {},
   "outputs": [
    {
     "name": "stdout",
     "output_type": "stream",
     "text": [
      "Arun Banu Chandru Dia Ezhumalai Fancy\n"
     ]
    }
   ],
   "source": [
    "name_list = [\"Arun\", \"Banu\", \"Chandru\", \"Dia\", \"Ezhumalai\", \"Fancy\"]\n",
    "\n",
    "def append(acc, name):\n",
    "    return acc +\" \"+name\n",
    "\n",
    "name_str = reduce( append, name_list)\n",
    "print(name_str)"
   ]
  },
  {
   "cell_type": "code",
   "execution_count": null,
   "metadata": {},
   "outputs": [],
   "source": []
  }
 ],
 "metadata": {
  "kernelspec": {
   "display_name": "Python 3",
   "language": "python",
   "name": "python3"
  },
  "language_info": {
   "codemirror_mode": {
    "name": "ipython",
    "version": 3
   },
   "file_extension": ".py",
   "mimetype": "text/x-python",
   "name": "python",
   "nbconvert_exporter": "python",
   "pygments_lexer": "ipython3",
   "version": "3.7.4"
  }
 },
 "nbformat": 4,
 "nbformat_minor": 2
}
