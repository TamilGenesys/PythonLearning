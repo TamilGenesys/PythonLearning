{
 "cells": [
  {
   "cell_type": "code",
   "execution_count": 5,
   "metadata": {},
   "outputs": [],
   "source": [
    "# Map is used as a transfromation function which allows us to transfrom all the items in iterable\n",
    "# without the use of explicit code\n",
    "\n",
    "str_list = \"Apple\"\n",
    "\n",
    "str_1 = list(str_list)"
   ]
  },
  {
   "cell_type": "code",
   "execution_count": 6,
   "metadata": {},
   "outputs": [
    {
     "name": "stdout",
     "output_type": "stream",
     "text": [
      "['A', 'p', 'p', 'l', 'e']\n"
     ]
    }
   ],
   "source": [
    "print(str_1)"
   ]
  },
  {
   "cell_type": "code",
   "execution_count": 9,
   "metadata": {},
   "outputs": [
    {
     "name": "stdout",
     "output_type": "stream",
     "text": [
      "<map object at 0x0000018C793198C8>\n",
      "[['A', 'p', 'p', 'l', 'e'], ['B', 'a', 'l', 'l'], ['C', 'a', 'r'], ['D', 'o', 'l', 'l']]\n",
      "[['A', 'p', 'p', 'l', 'e'], ['B', 'a', 'l', 'l'], ['C', 'a', 'r'], ['D', 'o', 'l', 'l']]\n"
     ]
    }
   ],
   "source": [
    "str_list2 = [\"Apple\", \"Ball\", \"Car\", \"Doll\"]\n",
    "list_output = map(list,str_list2)\n",
    "print(list_output)\n",
    "print(list(list_output))\n",
    "\n",
    "#Alternatively\n",
    "list_op = list(map(list, str_list2))\n",
    "print(list_op)"
   ]
  },
  {
   "cell_type": "code",
   "execution_count": 11,
   "metadata": {},
   "outputs": [
    {
     "name": "stdout",
     "output_type": "stream",
     "text": [
      "[1.0, 2.0, 3.0, 4.0, 5.0, 6.0, 7.0, 7.0710678118654755]\n"
     ]
    }
   ],
   "source": [
    "import math\n",
    "\n",
    "sq_list = [1, 4, 9, 16, 25, 36, 49, 50]\n",
    "\n",
    "sqrt_list = list(map(math.sqrt, sq_list))\n",
    "print(sqrt_list)"
   ]
  },
  {
   "cell_type": "code",
   "execution_count": 12,
   "metadata": {},
   "outputs": [
    {
     "name": "stdout",
     "output_type": "stream",
     "text": [
      "[0, 3, 8, 15, 24, 35, 48, 49]\n"
     ]
    }
   ],
   "source": [
    "def decrement(x):\n",
    "    return x - 1\n",
    "\n",
    "dec_list = list(map(decrement,sq_list))\n",
    "print(dec_list)"
   ]
  },
  {
   "cell_type": "code",
   "execution_count": 14,
   "metadata": {},
   "outputs": [
    {
     "name": "stdout",
     "output_type": "stream",
     "text": [
      "[12, 14, 16, 18, 20, 22, 24, 26, 28, 30]\n"
     ]
    }
   ],
   "source": [
    "#multiple iterable\n",
    "\n",
    "def add(x,y):\n",
    "    return x+y\n",
    "\n",
    "a = [ 1, 2, 3, 4, 5, 6, 7, 8, 9, 10]\n",
    "b = [ 11, 12, 13, 14, 15, 16, 17, 18, 19, 20]\n",
    "\n",
    "add_list = list(map(add, a, b))\n",
    "print(add_list)"
   ]
  },
  {
   "cell_type": "code",
   "execution_count": null,
   "metadata": {},
   "outputs": [],
   "source": []
  }
 ],
 "metadata": {
  "kernelspec": {
   "display_name": "Python 3",
   "language": "python",
   "name": "python3"
  },
  "language_info": {
   "codemirror_mode": {
    "name": "ipython",
    "version": 3
   },
   "file_extension": ".py",
   "mimetype": "text/x-python",
   "name": "python",
   "nbconvert_exporter": "python",
   "pygments_lexer": "ipython3",
   "version": "3.7.4"
  }
 },
 "nbformat": 4,
 "nbformat_minor": 2
}
