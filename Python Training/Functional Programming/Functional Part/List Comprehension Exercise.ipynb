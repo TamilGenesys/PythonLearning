{
 "cells": [
  {
   "cell_type": "code",
   "execution_count": 1,
   "metadata": {},
   "outputs": [],
   "source": [
    "# This is an small exercise to find the average salary of developers using list Comprehension\n",
    "\n",
    "from functools import reduce\n",
    "employees = [{\n",
    "    'name': 'Jane',\n",
    "    'salary': 90000,\n",
    "    'job_title': 'developer'\n",
    "}, {\n",
    "    'name': 'Bill',\n",
    "    'salary': 50000,\n",
    "    'job_title': 'writer'\n",
    "}, {\n",
    "    'name': 'Kathy',\n",
    "    'salary': 120000,\n",
    "    'job_title': 'executive'\n",
    "}, {\n",
    "    'name': 'Anna',\n",
    "    'salary': 100000,\n",
    "    'job_title': 'developer'\n",
    "}, {\n",
    "    'name': 'Dennis',\n",
    "    'salary': 95000,\n",
    "    'job_title': 'developer'\n",
    "}, {\n",
    "    'name': 'Albert',\n",
    "    'salary': 70000,\n",
    "    'job_title': 'marketing specialist'\n",
    "}]\n",
    "    \n",
    "    "
   ]
  },
  {
   "cell_type": "code",
   "execution_count": 2,
   "metadata": {},
   "outputs": [
    {
     "name": "stdout",
     "output_type": "stream",
     "text": [
      "[{'name': 'Jane', 'salary': 90000, 'job_title': 'developer'}, {'name': 'Anna', 'salary': 100000, 'job_title': 'developer'}, {'name': 'Dennis', 'salary': 95000, 'job_title': 'developer'}]\n"
     ]
    }
   ],
   "source": [
    "# Using List Comprehension to filter the developers\n",
    "\n",
    "developers = [ emp for emp in employees if emp['job_title'] == \"developer\"]\n",
    "print(developers)"
   ]
  },
  {
   "cell_type": "code",
   "execution_count": 3,
   "metadata": {},
   "outputs": [
    {
     "name": "stdout",
     "output_type": "stream",
     "text": [
      "[90000, 100000, 95000]\n"
     ]
    }
   ],
   "source": [
    "# Using List Comprehension to get the Salary\n",
    "\n",
    "developers_salary = [ emp['salary'] for emp in developers ]\n",
    "print(developers_salary)"
   ]
  },
  {
   "cell_type": "code",
   "execution_count": 4,
   "metadata": {},
   "outputs": [
    {
     "name": "stdout",
     "output_type": "stream",
     "text": [
      "The Average Salary of Developers is  95000.0\n"
     ]
    }
   ],
   "source": [
    "# Sum function to get the sum of all salries\n",
    "developers_salary_total = sum(developers_salary)\n",
    "print( \"The Average Salary of Developers is \", developers_salary_total/len(developers_salary))\n",
    "\n"
   ]
  },
  {
   "cell_type": "code",
   "execution_count": null,
   "metadata": {},
   "outputs": [],
   "source": []
  }
 ],
 "metadata": {
  "kernelspec": {
   "display_name": "Python 3",
   "language": "python",
   "name": "python3"
  },
  "language_info": {
   "codemirror_mode": {
    "name": "ipython",
    "version": 3
   },
   "file_extension": ".py",
   "mimetype": "text/x-python",
   "name": "python",
   "nbconvert_exporter": "python",
   "pygments_lexer": "ipython3",
   "version": "3.7.4"
  }
 },
 "nbformat": 4,
 "nbformat_minor": 2
}
