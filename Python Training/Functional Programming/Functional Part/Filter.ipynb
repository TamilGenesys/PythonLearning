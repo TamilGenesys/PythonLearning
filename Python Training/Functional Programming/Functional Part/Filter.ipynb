{
 "cells": [
  {
   "cell_type": "code",
   "execution_count": 1,
   "metadata": {},
   "outputs": [
    {
     "name": "stdout",
     "output_type": "stream",
     "text": [
      "[2, 4, 6, 8, 10]\n"
     ]
    }
   ],
   "source": [
    "# Filter is same as Map, however the func should return a boolean that will be used to filter the iterable\n",
    "\n",
    "number_list = [ 1, 2, 3, 4, 5, 6, 7, 8, 9, 10]\n",
    "\n",
    "def is_even(x):\n",
    "    return x % 2 == 0\n",
    "\n",
    "even_list = list ( filter( is_even, number_list ))\n",
    "print(even_list)"
   ]
  },
  {
   "cell_type": "code",
   "execution_count": 3,
   "metadata": {},
   "outputs": [
    {
     "name": "stdout",
     "output_type": "stream",
     "text": [
      "['Anand', 'arun', 'asin', 'Anu', 'Azma']\n"
     ]
    }
   ],
   "source": [
    "initials = \"A\"\n",
    "\n",
    "name_list = [\"Anand\",\"arun\",\"asin\",\"Bava\",\"Harry\",\"Anu\",\"Azma\",\"Carol\",\"Carla\"]\n",
    "\n",
    "def checkinitial(s):\n",
    "    return s[0].upper() == initials\n",
    "\n",
    "select_list = list ( filter (checkinitial, name_list))\n",
    "print(select_list)\n",
    "\n",
    "\n"
   ]
  },
  {
   "cell_type": "code",
   "execution_count": null,
   "metadata": {},
   "outputs": [],
   "source": []
  }
 ],
 "metadata": {
  "kernelspec": {
   "display_name": "Python 3",
   "language": "python",
   "name": "python3"
  },
  "language_info": {
   "codemirror_mode": {
    "name": "ipython",
    "version": 3
   },
   "file_extension": ".py",
   "mimetype": "text/x-python",
   "name": "python",
   "nbconvert_exporter": "python",
   "pygments_lexer": "ipython3",
   "version": "3.7.4"
  }
 },
 "nbformat": 4,
 "nbformat_minor": 2
}
