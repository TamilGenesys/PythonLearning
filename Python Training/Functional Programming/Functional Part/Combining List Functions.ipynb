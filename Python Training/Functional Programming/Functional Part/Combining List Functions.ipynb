{
 "cells": [
  {
   "cell_type": "code",
   "execution_count": 6,
   "metadata": {},
   "outputs": [],
   "source": [
    "# This is an small exercise to find the average salary of developes using\n",
    "# Map, Reduce and Filter\n",
    "\n",
    "from functools import reduce\n",
    "employees = [{\n",
    "    'name': 'Jane',\n",
    "    'salary': 90000,\n",
    "    'job_title': 'developer'\n",
    "}, {\n",
    "    'name': 'Bill',\n",
    "    'salary': 50000,\n",
    "    'job_title': 'writer'\n",
    "}, {\n",
    "    'name': 'Kathy',\n",
    "    'salary': 120000,\n",
    "    'job_title': 'executive'\n",
    "}, {\n",
    "    'name': 'Anna',\n",
    "    'salary': 100000,\n",
    "    'job_title': 'developer'\n",
    "}, {\n",
    "    'name': 'Dennis',\n",
    "    'salary': 95000,\n",
    "    'job_title': 'developer'\n",
    "}, {\n",
    "    'name': 'Albert',\n",
    "    'salary': 70000,\n",
    "    'job_title': 'marketing specialist'\n",
    "}]"
   ]
  },
  {
   "cell_type": "code",
   "execution_count": 7,
   "metadata": {},
   "outputs": [
    {
     "name": "stdout",
     "output_type": "stream",
     "text": [
      "[{'name': 'Jane', 'salary': 90000, 'job_title': 'developer'}, {'name': 'Anna', 'salary': 100000, 'job_title': 'developer'}, {'name': 'Dennis', 'salary': 95000, 'job_title': 'developer'}]\n"
     ]
    }
   ],
   "source": [
    "# Filter the Employess based on Job Title\n",
    "\n",
    "def get_employees ( emp ):\n",
    "    return emp['job_title'] == \"developer\"\n",
    "\n",
    "developers = list( filter( get_employees, employees))\n",
    "print( developers )"
   ]
  },
  {
   "cell_type": "code",
   "execution_count": 8,
   "metadata": {},
   "outputs": [
    {
     "name": "stdout",
     "output_type": "stream",
     "text": [
      "[90000, 100000, 95000]\n"
     ]
    }
   ],
   "source": [
    "# Use Map to get the List of Salary\n",
    "\n",
    "def get_salary (emp):\n",
    "    return emp['salary']\n",
    "\n",
    "developer_salary = list( map ( get_salary, developers ))\n",
    "print( developer_salary)"
   ]
  },
  {
   "cell_type": "code",
   "execution_count": 9,
   "metadata": {},
   "outputs": [
    {
     "name": "stdout",
     "output_type": "stream",
     "text": [
      " The average Salary of Developers is  95000.0\n"
     ]
    }
   ],
   "source": [
    "# Use Reduce to get the Total Salary\n",
    "\n",
    "def get_total_salary( init, sal ):\n",
    "    return init + sal\n",
    "\n",
    "developer_salary_total = reduce( get_total_salary, developer_salary)\n",
    "print(\" The average Salary of Developers is \", developer_salary_total/len(developer_salary))\n"
   ]
  },
  {
   "cell_type": "code",
   "execution_count": null,
   "metadata": {},
   "outputs": [],
   "source": []
  }
 ],
 "metadata": {
  "kernelspec": {
   "display_name": "Python 3",
   "language": "python",
   "name": "python3"
  },
  "language_info": {
   "codemirror_mode": {
    "name": "ipython",
    "version": 3
   },
   "file_extension": ".py",
   "mimetype": "text/x-python",
   "name": "python",
   "nbconvert_exporter": "python",
   "pygments_lexer": "ipython3",
   "version": "3.7.4"
  }
 },
 "nbformat": 4,
 "nbformat_minor": 2
}
