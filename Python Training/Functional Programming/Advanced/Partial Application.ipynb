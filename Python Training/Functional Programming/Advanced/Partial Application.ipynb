{
 "cells": [
  {
   "cell_type": "code",
   "execution_count": 1,
   "metadata": {},
   "outputs": [
    {
     "name": "stdout",
     "output_type": "stream",
     "text": [
      "Triple Sum  18\n"
     ]
    }
   ],
   "source": [
    "# Partial Application and Currying\n",
    "\n",
    "\n",
    "def add(x):\n",
    "    def add_inner(y, z):\n",
    "        return x+y+z\n",
    "    return add_inner\n",
    "\n",
    "addition = add(5)\n",
    "print(\"Triple Sum \", addition(6,7))"
   ]
  },
  {
   "cell_type": "code",
   "execution_count": 5,
   "metadata": {},
   "outputs": [
    {
     "name": "stdout",
     "output_type": "stream",
     "text": [
      "18\n",
      "Simplified Method  18\n"
     ]
    }
   ],
   "source": [
    "def currying(x):\n",
    "    def currying_inner(y):\n",
    "        def currying_innermost(z):\n",
    "            return x+y+z\n",
    "        return currying_innermost\n",
    "    return currying_inner\n",
    "\n",
    "currying_1 = currying(5)\n",
    "currying_2 = currying_1(6)\n",
    "\n",
    "print( currying_2(7))\n",
    "\n",
    "print(\"Simplified Method \",currying(5)(6)(7))"
   ]
  },
  {
   "cell_type": "code",
   "execution_count": null,
   "metadata": {},
   "outputs": [],
   "source": []
  },
  {
   "cell_type": "code",
   "execution_count": null,
   "metadata": {},
   "outputs": [],
   "source": []
  }
 ],
 "metadata": {
  "kernelspec": {
   "display_name": "Python 3",
   "language": "python",
   "name": "python3"
  },
  "language_info": {
   "codemirror_mode": {
    "name": "ipython",
    "version": 3
   },
   "file_extension": ".py",
   "mimetype": "text/x-python",
   "name": "python",
   "nbconvert_exporter": "python",
   "pygments_lexer": "ipython3",
   "version": "3.7.4"
  }
 },
 "nbformat": 4,
 "nbformat_minor": 2
}
