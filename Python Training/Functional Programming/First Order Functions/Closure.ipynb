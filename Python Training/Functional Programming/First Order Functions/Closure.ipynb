{
 "cells": [
  {
   "cell_type": "code",
   "execution_count": 1,
   "metadata": {},
   "outputs": [
    {
     "name": "stdout",
     "output_type": "stream",
     "text": [
      "0\n",
      "3\n",
      "1\n",
      "3\n",
      "2\n"
     ]
    }
   ],
   "source": [
    "# Extended Scope in returning Functions\n",
    "\n",
    "\n",
    "def bank_queue():\n",
    "    queue_length = 0\n",
    "    \n",
    "    def queue_len():\n",
    "        print(queue_length)\n",
    "    \n",
    "    def enqueue():\n",
    "        nonlocal queue_length\n",
    "        queue_length +=1\n",
    "    \n",
    "    def dequeue():\n",
    "        nonlocal queue_length\n",
    "        queue_length +=-1\n",
    "    \n",
    "    return (queue_len, enqueue, dequeue)\n",
    "\n",
    "\n",
    "queue_len_func, enqueue_func, dequeue_func = bank_queue()\n",
    "\n",
    "queue_len_func()\n",
    "enqueue_func()\n",
    "enqueue_func()\n",
    "enqueue_func()\n",
    "queue_len_func()\n",
    "dequeue_func()\n",
    "dequeue_func()\n",
    "queue_len_func()\n",
    "enqueue_func()\n",
    "enqueue_func()\n",
    "queue_len_func()\n",
    "dequeue_func()\n",
    "queue_len_func()\n"
   ]
  },
  {
   "cell_type": "code",
   "execution_count": null,
   "metadata": {},
   "outputs": [],
   "source": []
  }
 ],
 "metadata": {
  "kernelspec": {
   "display_name": "Python 3",
   "language": "python",
   "name": "python3"
  },
  "language_info": {
   "codemirror_mode": {
    "name": "ipython",
    "version": 3
   },
   "file_extension": ".py",
   "mimetype": "text/x-python",
   "name": "python",
   "nbconvert_exporter": "python",
   "pygments_lexer": "ipython3",
   "version": "3.7.4"
  }
 },
 "nbformat": 4,
 "nbformat_minor": 2
}
