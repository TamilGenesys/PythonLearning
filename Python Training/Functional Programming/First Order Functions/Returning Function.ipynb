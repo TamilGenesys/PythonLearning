{
 "cells": [
  {
   "cell_type": "code",
   "execution_count": 1,
   "metadata": {},
   "outputs": [
    {
     "name": "stdout",
     "output_type": "stream",
     "text": [
      " Coffee is ready \n"
     ]
    }
   ],
   "source": [
    "# We can also return a function\n",
    "\n",
    "\n",
    "def brewCoffee():\n",
    "    def coffee():\n",
    "        print(\" Coffee is ready \")\n",
    "    return coffee\n",
    "\n",
    "refresh = brewCoffee()\n",
    "refresh()"
   ]
  },
  {
   "cell_type": "code",
   "execution_count": 3,
   "metadata": {},
   "outputs": [
    {
     "name": "stdout",
     "output_type": "stream",
     "text": [
      "14\n",
      "21\n"
     ]
    }
   ],
   "source": [
    "\n",
    "def multiplier(x):\n",
    "    def multiply(num):\n",
    "        print( num*x )\n",
    "    return multiply\n",
    "\n",
    "\n",
    "input = 7\n",
    "double = multiplier(2)\n",
    "double(input)\n",
    "\n",
    "triple = multiplier(3)\n",
    "triple(input)"
   ]
  },
  {
   "cell_type": "code",
   "execution_count": null,
   "metadata": {},
   "outputs": [],
   "source": []
  }
 ],
 "metadata": {
  "kernelspec": {
   "display_name": "Python 3",
   "language": "python",
   "name": "python3"
  },
  "language_info": {
   "codemirror_mode": {
    "name": "ipython",
    "version": 3
   },
   "file_extension": ".py",
   "mimetype": "text/x-python",
   "name": "python",
   "nbconvert_exporter": "python",
   "pygments_lexer": "ipython3",
   "version": "3.7.4"
  }
 },
 "nbformat": 4,
 "nbformat_minor": 2
}
