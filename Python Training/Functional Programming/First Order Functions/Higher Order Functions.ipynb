{
 "cells": [
  {
   "cell_type": "code",
   "execution_count": 4,
   "metadata": {},
   "outputs": [
    {
     "name": "stdout",
     "output_type": "stream",
     "text": [
      "0.6666666666666666\n",
      " Operation Terminated Div by Zero \n",
      "None\n"
     ]
    }
   ],
   "source": [
    "# Higher Order Functions help in refactoring and helps in keeping clean code, they also help in\n",
    "# Argument checking for a function\n",
    "\n",
    "\n",
    "def div (x, y):\n",
    "    return x/y\n",
    "\n",
    "\n",
    "def higherorderfunc(func):\n",
    "    def argscheck(*args):\n",
    "        if args[1] == 0:\n",
    "            print(\" Operation Terminated Div by Zero \")\n",
    "            return\n",
    "        else:\n",
    "            return func(*args)\n",
    "    \n",
    "    return argscheck\n",
    "\n",
    "higherorder_func = higherorderfunc(div)\n",
    "\n",
    "print ( higherorder_func (2,3) )\n",
    "print ( higherorder_func (2,0) )\n"
   ]
  },
  {
   "cell_type": "code",
   "execution_count": null,
   "metadata": {},
   "outputs": [],
   "source": []
  }
 ],
 "metadata": {
  "kernelspec": {
   "display_name": "Python 3",
   "language": "python",
   "name": "python3"
  },
  "language_info": {
   "codemirror_mode": {
    "name": "ipython",
    "version": 3
   },
   "file_extension": ".py",
   "mimetype": "text/x-python",
   "name": "python",
   "nbconvert_exporter": "python",
   "pygments_lexer": "ipython3",
   "version": "3.7.4"
  }
 },
 "nbformat": 4,
 "nbformat_minor": 2
}
