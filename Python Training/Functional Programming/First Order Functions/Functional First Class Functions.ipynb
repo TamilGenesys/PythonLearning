{
 "cells": [
  {
   "cell_type": "code",
   "execution_count": 1,
   "metadata": {},
   "outputs": [
    {
     "name": "stdout",
     "output_type": "stream",
     "text": [
      " I am moon \n"
     ]
    }
   ],
   "source": [
    "# Treating Functions as any other objects or values\n",
    "\n",
    "def satellite():\n",
    "    print(\" I am moon \")\n",
    "\n",
    "satellite2 = satellite()\n",
    "\n",
    "satellite2"
   ]
  },
  {
   "cell_type": "code",
   "execution_count": 4,
   "metadata": {},
   "outputs": [
    {
     "name": "stdout",
     "output_type": "stream",
     "text": [
      "I am a Student\n",
      "I am a Teacher\n"
     ]
    }
   ],
   "source": [
    "# With Arguments\n",
    "\n",
    "def college(name):\n",
    "    print(f\"I am a {name}\")\n",
    "\n",
    "student = college(\"Student\")\n",
    "teacher = college(\"Teacher\")\n",
    "\n",
    "student\n",
    "teacher"
   ]
  },
  {
   "cell_type": "code",
   "execution_count": 12,
   "metadata": {},
   "outputs": [
    {
     "name": "stdout",
     "output_type": "stream",
     "text": [
      " Getting Test Data \n",
      "{'name': 'Test_API', 'version': 25.36}\n"
     ]
    },
    {
     "data": {
      "text/plain": [
       "'Test_API'"
      ]
     },
     "execution_count": 12,
     "metadata": {},
     "output_type": "execute_result"
    }
   ],
   "source": [
    "# Using a ternery operator to decide upon someting\n",
    "\n",
    "def fireAPI_Prod():\n",
    "    print(\" Getting Real Data \")\n",
    "\n",
    "def fireAPI_Dev():\n",
    "    print(\" Getting Test Data \")\n",
    "    return {\n",
    "        \"name\" : \"Test_API\",\n",
    "        \"version\": 25.36\n",
    "        \n",
    "    }\n",
    "\n",
    "ENV = \"dev\"\n",
    "\n",
    "api_fetch_data = fireAPI_Prod if ENV == \"prod\" else fireAPI_Dev\n",
    "\n",
    "api_data = api_fetch_data()\n",
    "print(api_data)\n",
    "api_data[\"name\"]\n",
    "    "
   ]
  },
  {
   "cell_type": "code",
   "execution_count": null,
   "metadata": {},
   "outputs": [],
   "source": []
  }
 ],
 "metadata": {
  "kernelspec": {
   "display_name": "Python 3",
   "language": "python",
   "name": "python3"
  },
  "language_info": {
   "codemirror_mode": {
    "name": "ipython",
    "version": 3
   },
   "file_extension": ".py",
   "mimetype": "text/x-python",
   "name": "python",
   "nbconvert_exporter": "python",
   "pygments_lexer": "ipython3",
   "version": "3.7.4"
  }
 },
 "nbformat": 4,
 "nbformat_minor": 2
}
