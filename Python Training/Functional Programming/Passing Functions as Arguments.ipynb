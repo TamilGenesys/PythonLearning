{
 "cells": [
  {
   "cell_type": "code",
   "execution_count": 4,
   "metadata": {},
   "outputs": [
    {
     "name": "stdout",
     "output_type": "stream",
     "text": [
      "80\n",
      "10\n",
      "Potter, Harry\n"
     ]
    }
   ],
   "source": [
    "# Passing Functions as Arguments\n",
    "\n",
    "def add(x,y):\n",
    "    return x+y\n",
    "\n",
    "def sub(x,y):\n",
    "    return x-y\n",
    "\n",
    "a = 45\n",
    "b = 35\n",
    "def funcArguments(func):\n",
    "    return func(a,b)\n",
    "\n",
    "print( funcArguments(add) )\n",
    "print( funcArguments(sub) )\n",
    "\n",
    "def strInput(func):\n",
    "    return func(\"Harry\", \"Potter\")\n",
    "\n",
    "def formalNotation(first_name,last_name):\n",
    "    print(f'{last_name}, {first_name}')\n",
    "\n",
    "strInput(formalNotation)"
   ]
  },
  {
   "cell_type": "code",
   "execution_count": null,
   "metadata": {},
   "outputs": [],
   "source": []
  }
 ],
 "metadata": {
  "kernelspec": {
   "display_name": "Python 3",
   "language": "python",
   "name": "python3"
  },
  "language_info": {
   "codemirror_mode": {
    "name": "ipython",
    "version": 3
   },
   "file_extension": ".py",
   "mimetype": "text/x-python",
   "name": "python",
   "nbconvert_exporter": "python",
   "pygments_lexer": "ipython3",
   "version": "3.7.4"
  }
 },
 "nbformat": 4,
 "nbformat_minor": 2
}
