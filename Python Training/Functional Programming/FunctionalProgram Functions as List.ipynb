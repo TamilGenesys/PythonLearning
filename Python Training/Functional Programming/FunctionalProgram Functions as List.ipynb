{
 "cells": [
  {
   "cell_type": "code",
   "execution_count": 4,
   "metadata": {},
   "outputs": [
    {
     "name": "stdout",
     "output_type": "stream",
     "text": [
      "3.4641016151377544\n"
     ]
    }
   ],
   "source": [
    "# Passing Functions as List\n",
    "\n",
    "import math\n",
    "\n",
    "def twice(num):\n",
    "    return 2*num\n",
    "\n",
    "def triple(num):\n",
    "    return 3*num\n",
    "\n",
    "def decrement(num):\n",
    "    return num -1\n",
    "\n",
    "def increment(num):\n",
    "    return num +1\n",
    "\n",
    "function_List =[\n",
    "    twice,\n",
    "    triple,\n",
    "    decrement,\n",
    "    increment,\n",
    "    math.sqrt\n",
    "]\n",
    "\n",
    "x = 2\n",
    "\n",
    "for func in function_List:\n",
    "    x = func(x)\n",
    "\n",
    "print(x)\n",
    "    \n",
    "\n"
   ]
  },
  {
   "cell_type": "code",
   "execution_count": null,
   "metadata": {},
   "outputs": [],
   "source": []
  }
 ],
 "metadata": {
  "kernelspec": {
   "display_name": "Python 3",
   "language": "python",
   "name": "python3"
  },
  "language_info": {
   "codemirror_mode": {
    "name": "ipython",
    "version": 3
   },
   "file_extension": ".py",
   "mimetype": "text/x-python",
   "name": "python",
   "nbconvert_exporter": "python",
   "pygments_lexer": "ipython3",
   "version": "3.7.4"
  }
 },
 "nbformat": 4,
 "nbformat_minor": 2
}
