{
 "cells": [
  {
   "cell_type": "code",
   "execution_count": 3,
   "metadata": {},
   "outputs": [
    {
     "name": "stdout",
     "output_type": "stream",
     "text": [
      "<__main__.Program object at 0x000002A524420AC8>\n",
      "Java 14\n"
     ]
    }
   ],
   "source": [
    "#This is an example to work with Initilaize method within a class\n",
    "\n",
    "class Program:\n",
    "   def __init__(self, name):\n",
    "    self.name = name\n",
    "\n",
    "java = Program(\"Java 14\")\n",
    "\n",
    "print( java )\n",
    "print( java.name)"
   ]
  },
  {
   "cell_type": "code",
   "execution_count": null,
   "metadata": {},
   "outputs": [],
   "source": []
  }
 ],
 "metadata": {
  "kernelspec": {
   "display_name": "Python 3",
   "language": "python",
   "name": "python3"
  },
  "language_info": {
   "codemirror_mode": {
    "name": "ipython",
    "version": 3
   },
   "file_extension": ".py",
   "mimetype": "text/x-python",
   "name": "python",
   "nbconvert_exporter": "python",
   "pygments_lexer": "ipython3",
   "version": "3.7.4"
  }
 },
 "nbformat": 4,
 "nbformat_minor": 2
}
